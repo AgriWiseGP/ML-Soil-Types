
import tensorflow as tf 
import numpy
import pandas as pd
import cv2
from tensorflow.keras.utils import CustomObjectScope
import tensorflow_hub as hub

class mobile_net:
    def __init__(self):
       with CustomObjectScope({'KerasLayer': tf.keras.layers.Layer}):
        self.model =  tf.keras.models.load_model('/content/drive/MyDrive/AgriWise/ML/soli type/model2/soil_type.h5', custom_objects={'KerasLayer':hub.KerasLayer})

    
    def preprocessing(self,img_path):
        # Load image
        img = cv2.imread(img_path)

        # Resize image to 224x224
        img = cv2.resize(img, (224, 224))
        img=img/224.0

        # Add batch dimension
        img = numpy.expand_dims(img, axis=0)

        return img

    def predict(self, input_data):
        return self.model.predict(input_data)

    def postprocessing(self, prediction):
        categories = ['Black Soil', 'Cinder Soil', 'Laterite Soil', 'Peat Soil', 'Yellow Soil']
        index_max_predict = numpy.argmax(prediction)
        return categories[index_max_predict]
        

    def compute_prediction(self, input_data):
        try:
            input_data = self.preprocessing(input_data)
            prediction = self.predict(input_data)[0]  # only one sample
            prediction = self.postprocessing(prediction)
        except Exception as e:
            return {"status": "Error", "message": str(e)}

      
        return prediction
